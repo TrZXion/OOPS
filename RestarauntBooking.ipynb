{
 "cells": [
  {
   "cell_type": "code",
   "execution_count": 1,
   "id": "7efe6b53",
   "metadata": {},
   "outputs": [
    {
     "name": "stdout",
     "output_type": "stream",
     "text": [
      "\n",
      " Menu Items with price list:\n",
      "Butter Chicken: 8\n",
      "Butter Naan: 19.99\n",
      "French Fries: 3.99\n",
      "Burger:: 15\n",
      "\n",
      "Table reserved in the Restaurant:\n",
      "Table 1\n",
      "Table 2\n",
      "Table 3\n",
      "\n",
      "Print customer orders:\n",
      "Table 1: Butter Chicken\n",
      "Table 1: Butter Naan\n",
      "Table 2: French Fries\n",
      "Table 2: Burger\n"
     ]
    }
   ],
   "source": [
    "# wap in python to create a class called restaurant with attributes like menu items, book table, customer oder and design suitable methods to perform\n",
    "    # i. Add items to the menu\n",
    "    # ii.Make table reservations\n",
    "    # iii. Take customer order and also print all.(use dictionaries and list to store the data)\n",
    "    \n",
    "class Restaurant:\n",
    "    def __init__(self):\n",
    "        self.menu_items = {}\n",
    "        self.book_table = []\n",
    "        self.customer_orders = []\n",
    "\n",
    "    def add_item_to_menu(self, item, price):\n",
    "        self.menu_items[item] = price\n",
    "\n",
    "    def book_tables(self, table_number):\n",
    "        self.book_table.append(table_number)\n",
    "\n",
    "    def customer_order(self, table_number, order):\n",
    "        order_details = {'table_number': table_number, 'order': order}\n",
    "        self.customer_orders.append(order_details)\n",
    "\n",
    "    def print_menu_items(self):\n",
    "        for item, price in self.menu_items.items():\n",
    "            print(\"{}: {}\".format(item, price))\n",
    "\n",
    "    def print_table_reservations(self):\n",
    "        for table in self.book_table:\n",
    "            print(\"Table {}\".format(table))\n",
    "\n",
    "    def print_customer_orders(self):\n",
    "        for order in self.customer_orders:\n",
    "            print(\"Table {}: {}\".format(order['table_number'], order['order']))\n",
    "\n",
    "restaurant = Restaurant()\n",
    "\n",
    "# Add items\n",
    "restaurant.add_item_to_menu(\"Butter Chicken\", 8)\n",
    "restaurant.add_item_to_menu(\"Butter Naan\", 19.99)\n",
    "restaurant.add_item_to_menu(\"French Fries\", 3.99)\n",
    "restaurant.add_item_to_menu(\"Burger:\", 15)\n",
    "# Book table\n",
    "restaurant.book_tables(1)\n",
    "restaurant.book_tables(2)\n",
    "restaurant.book_tables(3)\n",
    "# Order items\n",
    "restaurant.customer_order(1, \"Butter Chicken\")\n",
    "restaurant.customer_order(1, \"Butter Naan\")\n",
    "restaurant.customer_order(2, \"French Fries\")\n",
    "restaurant.customer_order(2, \"Burger\")\n",
    "\n",
    "print(\"\\n Menu Items with price list:\")\n",
    "restaurant.print_menu_items()\n",
    "print(\"\\nTable reserved in the Restaurant:\")\n",
    "restaurant.print_table_reservations()\n",
    "print(\"\\nPrint customer orders:\")\n",
    "restaurant.print_customer_orders()\n"
   ]
  }
 ],
 "metadata": {
  "kernelspec": {
   "display_name": "Python 3 (ipykernel)",
   "language": "python",
   "name": "python3"
  },
  "language_info": {
   "codemirror_mode": {
    "name": "ipython",
    "version": 3
   },
   "file_extension": ".py",
   "mimetype": "text/x-python",
   "name": "python",
   "nbconvert_exporter": "python",
   "pygments_lexer": "ipython3",
   "version": "3.11.1"
  }
 },
 "nbformat": 4,
 "nbformat_minor": 5
}
